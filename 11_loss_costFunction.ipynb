{
 "cells": [
  {
   "cell_type": "code",
   "execution_count": 1,
   "id": "aecc7d7c-30d6-4e7f-a8ce-a20bee4a00aa",
   "metadata": {},
   "outputs": [],
   "source": [
    "import numpy as np\n"
   ]
  },
  {
   "cell_type": "code",
   "execution_count": null,
   "id": "94555259-e72a-4ef7-9cfb-d1c8734fb578",
   "metadata": {},
   "outputs": [],
   "source": [
    "# Applying MEA using 1. python, 2. Numpy"
   ]
  },
  {
   "cell_type": "code",
   "execution_count": 33,
   "id": "2f129906-26b6-41bb-a929-3700a4775dcd",
   "metadata": {},
   "outputs": [],
   "source": [
    "y_predicted = np.array([1,1,0,0,1])\n",
    "y_true = np.array([0.3,1.7,1,0,0.5])"
   ]
  },
  {
   "cell_type": "code",
   "execution_count": 34,
   "id": "4fe34995-87b7-4936-a6d0-9d601ac49a5a",
   "metadata": {},
   "outputs": [],
   "source": [
    "# mae using PYTHON\n",
    "\n",
    "def mae(y_true,y_predicted):\n",
    "    total_error = 0;\n",
    "    for yt, yp in zip(y_true,y_predicted):\n",
    "        print(f\"{yt},{yp}\")\n",
    "\n",
    "        # to calculate absolute error\n",
    "        total_error += abs(yt-yp)\n",
    "    print('total error is:',total_error)\n",
    "    mae =  total_error/len(y_true)\n",
    "    print('total mean error is:',mae)\n",
    "    return mae;"
   ]
  },
  {
   "cell_type": "code",
   "execution_count": 35,
   "id": "e71e73b7-b6e5-4a23-85b9-0c5c69ed3e9d",
   "metadata": {},
   "outputs": [
    {
     "name": "stdout",
     "output_type": "stream",
     "text": [
      "0.3,1\n",
      "1.7,1\n",
      "1.0,0\n",
      "0.0,0\n",
      "0.5,1\n",
      "total error is: 2.9\n",
      "total mean error is: 0.58\n"
     ]
    },
    {
     "data": {
      "text/plain": [
       "np.float64(0.58)"
      ]
     },
     "execution_count": 35,
     "metadata": {},
     "output_type": "execute_result"
    }
   ],
   "source": [
    "mae(y_true,y_predicted)"
   ]
  },
  {
   "cell_type": "code",
   "execution_count": 36,
   "id": "01e342fe-0b5a-4286-8640-c244d1b1535f",
   "metadata": {},
   "outputs": [
    {
     "data": {
      "text/plain": [
       "np.float64(0.58)"
      ]
     },
     "execution_count": 36,
     "metadata": {},
     "output_type": "execute_result"
    }
   ],
   "source": [
    "# MAE using NUMPY\n",
    "\n",
    "MAE = np.mean(np.abs(y_true - y_predicted))\n",
    "MAE"
   ]
  },
  {
   "cell_type": "code",
   "execution_count": 37,
   "id": "2ad8d961-1193-4305-ba93-2667552104b0",
   "metadata": {},
   "outputs": [],
   "source": [
    "# above we can celarly see how easy mae definig/calculating in easy in numpy than that of python\n"
   ]
  },
  {
   "cell_type": "code",
   "execution_count": 38,
   "id": "3695dfa8-7fed-455d-b945-a31d0370559a",
   "metadata": {},
   "outputs": [],
   "source": [
    "# LOG LOSS APLICATION"
   ]
  },
  {
   "cell_type": "code",
   "execution_count": 39,
   "id": "127fc771-e90b-4f5a-b364-0ce6998ba6a9",
   "metadata": {},
   "outputs": [
    {
     "data": {
      "text/plain": [
       "np.float64(-96.70857390574992)"
      ]
     },
     "execution_count": 39,
     "metadata": {},
     "output_type": "execute_result"
    }
   ],
   "source": [
    "np.log(0.000000000000000000000000000000000000000001)"
   ]
  },
  {
   "cell_type": "code",
   "execution_count": 40,
   "id": "f72e7dcc-c9c1-4f2f-827e-86048295c5b0",
   "metadata": {},
   "outputs": [],
   "source": [
    "# if we are getting log zero in some calculation then it will create a trouble so taking a value close to zero can help us"
   ]
  },
  {
   "cell_type": "code",
   "execution_count": 41,
   "id": "6fdb4eac-96cc-4c90-bfba-cf7831732ccc",
   "metadata": {},
   "outputs": [],
   "source": [
    "epsilon = 1e-15"
   ]
  },
  {
   "cell_type": "code",
   "execution_count": 42,
   "id": "526e2732-eb7d-42ba-9fbf-f472faf0af71",
   "metadata": {},
   "outputs": [],
   "source": [
    "# here in predicted value there is presence of both 0,1 \n",
    "# targeting zero\n",
    "\n",
    "y_predicted_n= [max(i,epsilon) for i in y_predicted] \n"
   ]
  },
  {
   "cell_type": "code",
   "execution_count": 43,
   "id": "b93c1b66-8784-449b-a215-cd73401d07b6",
   "metadata": {},
   "outputs": [
    {
     "data": {
      "text/plain": [
       "[np.int64(1), np.int64(1), 1e-15, 1e-15, np.int64(1)]"
      ]
     },
     "execution_count": 43,
     "metadata": {},
     "output_type": "execute_result"
    }
   ],
   "source": [
    "y_predicted_n"
   ]
  },
  {
   "cell_type": "code",
   "execution_count": 44,
   "id": "55d8363c-7800-4e10-bbee-9ff9555127c8",
   "metadata": {},
   "outputs": [
    {
     "data": {
      "text/plain": [
       "[0.999999999999999, 0.999999999999999, 1e-15, 1e-15, 0.999999999999999]"
      ]
     },
     "execution_count": 44,
     "metadata": {},
     "output_type": "execute_result"
    }
   ],
   "source": [
    "y_predicted_n= [min(i,1-epsilon)  for i in y_predicted_n]\n",
    "y_predicted_n\n"
   ]
  },
  {
   "cell_type": "code",
   "execution_count": 45,
   "id": "6701bd12-b46b-4b5d-b61e-d9f3b44d915b",
   "metadata": {},
   "outputs": [],
   "source": [
    "y_predicted_n = np.array(y_predicted_n)"
   ]
  },
  {
   "cell_type": "code",
   "execution_count": 46,
   "id": "68afb440-0c88-4d26-8741-691b4734f676",
   "metadata": {},
   "outputs": [
    {
     "data": {
      "text/plain": [
       "array([-9.99200722e-16, -9.99200722e-16, -3.45387764e+01, -3.45387764e+01,\n",
       "       -9.99200722e-16])"
      ]
     },
     "execution_count": 46,
     "metadata": {},
     "output_type": "execute_result"
    }
   ],
   "source": [
    "np.log(y_predicted_n)"
   ]
  },
  {
   "cell_type": "code",
   "execution_count": 49,
   "id": "7d5bfefd-0739-43bd-90b7-a75d48fdc8f9",
   "metadata": {},
   "outputs": [
    {
     "data": {
      "text/plain": [
       "np.float64(10.361712878216224)"
      ]
     },
     "execution_count": 49,
     "metadata": {},
     "output_type": "execute_result"
    }
   ],
   "source": [
    "# creating a log loss\n",
    "\n",
    "-np.mean(y_true*np.log(y_predicted_n) + (1-y_true)*np.log(1-y_predicted_n))"
   ]
  },
  {
   "cell_type": "code",
   "execution_count": 78,
   "id": "970c3568-8545-4c4e-8230-c3679929e6ac",
   "metadata": {},
   "outputs": [],
   "source": [
    "# creating a log loss finction\n",
    "\n",
    "def log_l(y_true,y_predicted):\n",
    "    epsilon = 1e-15\n",
    "    print(y_predicted)\n",
    "    y_predicted_n = [max(i,epsilon) for i in y_predicted]\n",
    "    print(y_predicted_n)\n",
    "    \n",
    "    y_preidcted_n= [min(i,1-epsilon)  for i in y_predicted_n]\n",
    "    y_predicted_n= [min(i,1-epsilon)  for i in y_predicted_n]\n",
    "    print(y_predicted_n)\n",
    "    \n",
    "    y_predicted_n = np.array(y_predicted_n)\n",
    "    print(y_predicted_n)\n",
    "    # return -np.mean(y_true*np.log(y_predicted_n) + (1-y_true)*np.log(1-y_predicted_n))"
   ]
  },
  {
   "cell_type": "code",
   "execution_count": 61,
   "id": "188cb0ed-8ff5-4d9b-8881-a2f888278676",
   "metadata": {},
   "outputs": [
    {
     "data": {
      "text/plain": [
       "array([-9.99200722e-16, -9.99200722e-16, -3.45387764e+01, -3.45387764e+01,\n",
       "       -9.99200722e-16])"
      ]
     },
     "execution_count": 61,
     "metadata": {},
     "output_type": "execute_result"
    }
   ],
   "source": [
    "np.log(y_predicted_n)"
   ]
  },
  {
   "cell_type": "code",
   "execution_count": 79,
   "id": "5235d337-f872-4dca-bf25-85fa3da78614",
   "metadata": {},
   "outputs": [
    {
     "name": "stdout",
     "output_type": "stream",
     "text": [
      "[1 1 0 0 1]\n",
      "[np.int64(1), np.int64(1), 1e-15, 1e-15, np.int64(1)]\n",
      "[np.int64(1), np.int64(1), 1e-15, 1e-15, np.int64(1)]\n",
      "[1.e+00 1.e+00 1.e-15 1.e-15 1.e+00]\n"
     ]
    }
   ],
   "source": [
    "log_l(y_true,y_predicted)"
   ]
  },
  {
   "cell_type": "code",
   "execution_count": null,
   "id": "2b6153a9-9bd9-43a7-8ade-bb44250d7361",
   "metadata": {},
   "outputs": [],
   "source": []
  }
 ],
 "metadata": {
  "kernelspec": {
   "display_name": "Python 3 (ipykernel)",
   "language": "python",
   "name": "python3"
  },
  "language_info": {
   "codemirror_mode": {
    "name": "ipython",
    "version": 3
   },
   "file_extension": ".py",
   "mimetype": "text/x-python",
   "name": "python",
   "nbconvert_exporter": "python",
   "pygments_lexer": "ipython3",
   "version": "3.10.18"
  }
 },
 "nbformat": 4,
 "nbformat_minor": 5
}
