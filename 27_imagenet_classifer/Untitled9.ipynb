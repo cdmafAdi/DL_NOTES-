{
  "nbformat": 4,
  "nbformat_minor": 0,
  "metadata": {
    "colab": {
      "provenance": [],
      "authorship_tag": "ABX9TyMnbcqW64moRVXfqLYKqb4S",
      "include_colab_link": true
    },
    "kernelspec": {
      "name": "python3",
      "display_name": "Python 3"
    },
    "language_info": {
      "name": "python"
    }
  },
  "cells": [
    {
      "cell_type": "markdown",
      "metadata": {
        "id": "view-in-github",
        "colab_type": "text"
      },
      "source": [
        "<a href=\"https://colab.research.google.com/github/cdmafAdi/DL_NOTES-/blob/DL_YT_NOTES/27_imagenet_classifer/Untitled9.ipynb\" target=\"_parent\"><img src=\"https://colab.research.google.com/assets/colab-badge.svg\" alt=\"Open In Colab\"/></a>"
      ]
    },
    {
      "cell_type": "code",
      "execution_count": 5,
      "metadata": {
        "colab": {
          "base_uri": "https://localhost:8080/"
        },
        "id": "QyU8r7EZ6irD",
        "outputId": "aeb4dede-5b1b-47bb-82f5-9cb2e1f2f7cc"
      },
      "outputs": [
        {
          "output_type": "stream",
          "name": "stdout",
          "text": [
            "Requirement already satisfied: tensorflow_hub in /usr/local/lib/python3.12/dist-packages (0.16.1)\n",
            "Requirement already satisfied: numpy>=1.12.0 in /usr/local/lib/python3.12/dist-packages (from tensorflow_hub) (2.0.2)\n",
            "Requirement already satisfied: protobuf>=3.19.6 in /usr/local/lib/python3.12/dist-packages (from tensorflow_hub) (5.29.5)\n",
            "Requirement already satisfied: tf-keras>=2.14.1 in /usr/local/lib/python3.12/dist-packages (from tensorflow_hub) (2.19.0)\n",
            "Requirement already satisfied: tensorflow<2.20,>=2.19 in /usr/local/lib/python3.12/dist-packages (from tf-keras>=2.14.1->tensorflow_hub) (2.19.0)\n",
            "Requirement already satisfied: absl-py>=1.0.0 in /usr/local/lib/python3.12/dist-packages (from tensorflow<2.20,>=2.19->tf-keras>=2.14.1->tensorflow_hub) (1.4.0)\n",
            "Requirement already satisfied: astunparse>=1.6.0 in /usr/local/lib/python3.12/dist-packages (from tensorflow<2.20,>=2.19->tf-keras>=2.14.1->tensorflow_hub) (1.6.3)\n",
            "Requirement already satisfied: flatbuffers>=24.3.25 in /usr/local/lib/python3.12/dist-packages (from tensorflow<2.20,>=2.19->tf-keras>=2.14.1->tensorflow_hub) (25.2.10)\n",
            "Requirement already satisfied: gast!=0.5.0,!=0.5.1,!=0.5.2,>=0.2.1 in /usr/local/lib/python3.12/dist-packages (from tensorflow<2.20,>=2.19->tf-keras>=2.14.1->tensorflow_hub) (0.6.0)\n",
            "Requirement already satisfied: google-pasta>=0.1.1 in /usr/local/lib/python3.12/dist-packages (from tensorflow<2.20,>=2.19->tf-keras>=2.14.1->tensorflow_hub) (0.2.0)\n",
            "Requirement already satisfied: libclang>=13.0.0 in /usr/local/lib/python3.12/dist-packages (from tensorflow<2.20,>=2.19->tf-keras>=2.14.1->tensorflow_hub) (18.1.1)\n",
            "Requirement already satisfied: opt-einsum>=2.3.2 in /usr/local/lib/python3.12/dist-packages (from tensorflow<2.20,>=2.19->tf-keras>=2.14.1->tensorflow_hub) (3.4.0)\n",
            "Requirement already satisfied: packaging in /usr/local/lib/python3.12/dist-packages (from tensorflow<2.20,>=2.19->tf-keras>=2.14.1->tensorflow_hub) (25.0)\n",
            "Requirement already satisfied: requests<3,>=2.21.0 in /usr/local/lib/python3.12/dist-packages (from tensorflow<2.20,>=2.19->tf-keras>=2.14.1->tensorflow_hub) (2.32.4)\n",
            "Requirement already satisfied: setuptools in /usr/local/lib/python3.12/dist-packages (from tensorflow<2.20,>=2.19->tf-keras>=2.14.1->tensorflow_hub) (75.2.0)\n",
            "Requirement already satisfied: six>=1.12.0 in /usr/local/lib/python3.12/dist-packages (from tensorflow<2.20,>=2.19->tf-keras>=2.14.1->tensorflow_hub) (1.17.0)\n",
            "Requirement already satisfied: termcolor>=1.1.0 in /usr/local/lib/python3.12/dist-packages (from tensorflow<2.20,>=2.19->tf-keras>=2.14.1->tensorflow_hub) (3.1.0)\n",
            "Requirement already satisfied: typing-extensions>=3.6.6 in /usr/local/lib/python3.12/dist-packages (from tensorflow<2.20,>=2.19->tf-keras>=2.14.1->tensorflow_hub) (4.14.1)\n",
            "Requirement already satisfied: wrapt>=1.11.0 in /usr/local/lib/python3.12/dist-packages (from tensorflow<2.20,>=2.19->tf-keras>=2.14.1->tensorflow_hub) (1.17.3)\n",
            "Requirement already satisfied: grpcio<2.0,>=1.24.3 in /usr/local/lib/python3.12/dist-packages (from tensorflow<2.20,>=2.19->tf-keras>=2.14.1->tensorflow_hub) (1.74.0)\n",
            "Requirement already satisfied: tensorboard~=2.19.0 in /usr/local/lib/python3.12/dist-packages (from tensorflow<2.20,>=2.19->tf-keras>=2.14.1->tensorflow_hub) (2.19.0)\n",
            "Requirement already satisfied: keras>=3.5.0 in /usr/local/lib/python3.12/dist-packages (from tensorflow<2.20,>=2.19->tf-keras>=2.14.1->tensorflow_hub) (3.10.0)\n",
            "Requirement already satisfied: h5py>=3.11.0 in /usr/local/lib/python3.12/dist-packages (from tensorflow<2.20,>=2.19->tf-keras>=2.14.1->tensorflow_hub) (3.14.0)\n",
            "Requirement already satisfied: ml-dtypes<1.0.0,>=0.5.1 in /usr/local/lib/python3.12/dist-packages (from tensorflow<2.20,>=2.19->tf-keras>=2.14.1->tensorflow_hub) (0.5.3)\n",
            "Requirement already satisfied: wheel<1.0,>=0.23.0 in /usr/local/lib/python3.12/dist-packages (from astunparse>=1.6.0->tensorflow<2.20,>=2.19->tf-keras>=2.14.1->tensorflow_hub) (0.45.1)\n",
            "Requirement already satisfied: rich in /usr/local/lib/python3.12/dist-packages (from keras>=3.5.0->tensorflow<2.20,>=2.19->tf-keras>=2.14.1->tensorflow_hub) (13.9.4)\n",
            "Requirement already satisfied: namex in /usr/local/lib/python3.12/dist-packages (from keras>=3.5.0->tensorflow<2.20,>=2.19->tf-keras>=2.14.1->tensorflow_hub) (0.1.0)\n",
            "Requirement already satisfied: optree in /usr/local/lib/python3.12/dist-packages (from keras>=3.5.0->tensorflow<2.20,>=2.19->tf-keras>=2.14.1->tensorflow_hub) (0.17.0)\n",
            "Requirement already satisfied: charset_normalizer<4,>=2 in /usr/local/lib/python3.12/dist-packages (from requests<3,>=2.21.0->tensorflow<2.20,>=2.19->tf-keras>=2.14.1->tensorflow_hub) (3.4.3)\n",
            "Requirement already satisfied: idna<4,>=2.5 in /usr/local/lib/python3.12/dist-packages (from requests<3,>=2.21.0->tensorflow<2.20,>=2.19->tf-keras>=2.14.1->tensorflow_hub) (3.10)\n",
            "Requirement already satisfied: urllib3<3,>=1.21.1 in /usr/local/lib/python3.12/dist-packages (from requests<3,>=2.21.0->tensorflow<2.20,>=2.19->tf-keras>=2.14.1->tensorflow_hub) (2.5.0)\n",
            "Requirement already satisfied: certifi>=2017.4.17 in /usr/local/lib/python3.12/dist-packages (from requests<3,>=2.21.0->tensorflow<2.20,>=2.19->tf-keras>=2.14.1->tensorflow_hub) (2025.8.3)\n",
            "Requirement already satisfied: markdown>=2.6.8 in /usr/local/lib/python3.12/dist-packages (from tensorboard~=2.19.0->tensorflow<2.20,>=2.19->tf-keras>=2.14.1->tensorflow_hub) (3.8.2)\n",
            "Requirement already satisfied: tensorboard-data-server<0.8.0,>=0.7.0 in /usr/local/lib/python3.12/dist-packages (from tensorboard~=2.19.0->tensorflow<2.20,>=2.19->tf-keras>=2.14.1->tensorflow_hub) (0.7.2)\n",
            "Requirement already satisfied: werkzeug>=1.0.1 in /usr/local/lib/python3.12/dist-packages (from tensorboard~=2.19.0->tensorflow<2.20,>=2.19->tf-keras>=2.14.1->tensorflow_hub) (3.1.3)\n",
            "Requirement already satisfied: MarkupSafe>=2.1.1 in /usr/local/lib/python3.12/dist-packages (from werkzeug>=1.0.1->tensorboard~=2.19.0->tensorflow<2.20,>=2.19->tf-keras>=2.14.1->tensorflow_hub) (3.0.2)\n",
            "Requirement already satisfied: markdown-it-py>=2.2.0 in /usr/local/lib/python3.12/dist-packages (from rich->keras>=3.5.0->tensorflow<2.20,>=2.19->tf-keras>=2.14.1->tensorflow_hub) (4.0.0)\n",
            "Requirement already satisfied: pygments<3.0.0,>=2.13.0 in /usr/local/lib/python3.12/dist-packages (from rich->keras>=3.5.0->tensorflow<2.20,>=2.19->tf-keras>=2.14.1->tensorflow_hub) (2.19.2)\n",
            "Requirement already satisfied: mdurl~=0.1 in /usr/local/lib/python3.12/dist-packages (from markdown-it-py>=2.2.0->rich->keras>=3.5.0->tensorflow<2.20,>=2.19->tf-keras>=2.14.1->tensorflow_hub) (0.1.2)\n"
          ]
        }
      ],
      "source": [
        "!pip install tensorflow_hub"
      ]
    },
    {
      "cell_type": "code",
      "source": [
        "import PIL.Image as Image\n",
        "import matplotlib.pyplot as plt\n",
        "import numpy as np\n",
        "\n",
        "import pandas as pd"
      ],
      "metadata": {
        "id": "IcTsZq0c9gd7"
      },
      "execution_count": 153,
      "outputs": []
    },
    {
      "cell_type": "code",
      "source": [
        "import tensorflow as tf\n",
        "import tensorflow_hub as hub"
      ],
      "metadata": {
        "id": "8MODsOLV6vIH"
      },
      "execution_count": 154,
      "outputs": []
    },
    {
      "cell_type": "code",
      "source": [
        "class HubLayer(tf.keras.layers.Layer):\n",
        "    def __init__(self, url, input_shape):\n",
        "        super().__init__()\n",
        "        self.hub_layer = hub.KerasLayer(url, input_shape=input_shape)\n",
        "\n",
        "    def call(self, x):\n",
        "        return self.hub_layer(x)\n",
        "\n",
        "model = tf.keras.Sequential([\n",
        "    HubLayer(\"https://tfhub.dev/google/imagenet/mobilenet_v2_035_128/classification/5\",\n",
        "             input_shape=(224, 224, 3))\n",
        "])\n",
        "\n"
      ],
      "metadata": {
        "id": "64qEW8fR7Bu2"
      },
      "execution_count": 155,
      "outputs": []
    },
    {
      "cell_type": "code",
      "source": [
        "gold_fish = Image.open('/content/umbrella.jfif').resize((128, 128))\n",
        "gold_fish"
      ],
      "metadata": {
        "colab": {
          "base_uri": "https://localhost:8080/",
          "height": 145
        },
        "id": "Hn7MXH8h8A-W",
        "outputId": "2bc70094-e3dc-425d-ac41-f88217ad0423"
      },
      "execution_count": 188,
      "outputs": [
        {
          "output_type": "execute_result",
          "data": {
            "text/plain": [
              "<PIL.Image.Image image mode=RGB size=128x128>"
            ],
            "image/png": "[encoded data removed]",
            "image/jpeg": "[encoded data removed]"
          },
          "metadata": {},
          "execution_count": 188
        }
      ]
    },
    {
      "cell_type": "code",
      "source": [
        "np.array(gold_fish)"
      ],
      "metadata": {
        "colab": {
          "base_uri": "https://localhost:8080/",
          "height": 168
        },
        "id": "9U4JoEHf-jff",
        "outputId": "979c6616-4b47-4309-b8d1-9d473e87a750"
      },
      "execution_count": 189,
      "outputs": [
        {
          "output_type": "execute_result",
          "data": {
            "text/plain": [
              "array([[[255, 255, 255],\n",
              "        [255, 255, 255],\n",
              "        [255, 255, 255],\n",
              "        ...,\n",
              "        [255, 255, 255],\n",
              "        [255, 255, 255],\n",
              "        [255, 255, 255]],\n",
              "\n",
              "       [[255, 255, 255],\n",
              "        [255, 255, 255],\n",
              "        [255, 255, 255],\n",
              "        ...,\n",
              "        [255, 255, 255],\n",
              "        [255, 255, 255],\n",
              "        [255, 255, 255]],\n",
              "\n",
              "       [[255, 255, 255],\n",
              "        [255, 255, 255],\n",
              "        [255, 255, 255],\n",
              "        ...,\n",
              "        [255, 255, 255],\n",
              "        [255, 255, 255],\n",
              "        [255, 255, 255]],\n",
              "\n",
              "       ...,\n",
              "\n",
              "       [[253, 253, 253],\n",
              "        [253, 253, 253],\n",
              "        [252, 252, 252],\n",
              "        ...,\n",
              "        [255, 255, 255],\n",
              "        [255, 255, 255],\n",
              "        [255, 255, 255]],\n",
              "\n",
              "       [[253, 253, 253],\n",
              "        [253, 253, 253],\n",
              "        [252, 252, 252],\n",
              "        ...,\n",
              "        [255, 255, 255],\n",
              "        [255, 255, 255],\n",
              "        [255, 255, 255]],\n",
              "\n",
              "       [[254, 254, 254],\n",
              "        [254, 254, 254],\n",
              "        [253, 253, 253],\n",
              "        ...,\n",
              "        [255, 255, 255],\n",
              "        [255, 255, 255],\n",
              "        [255, 255, 255]]], dtype=uint8)"
            ],
            "text/html": [
              "<style>\n",
              "      .ndarray_repr .ndarray_raw_data {\n",
              "        display: none;\n",
              "      }\n",
              "      .ndarray_repr.show_array .ndarray_raw_data {\n",
              "        display: block;\n",
              "      }\n",
              "      .ndarray_repr.show_array .ndarray_image_preview {\n",
              "        display: none;\n",
              "      }\n",
              "      </style>\n",
              "      <div id=\"id-6f705a50-6668-4c14-854a-859d6d901f44\" class=\"ndarray_repr\"><pre>ndarray (128, 128, 3) <button style=\"padding: 0 2px;\">show data</button></pre><img src=\"data:image/png;base64,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\" class=\"ndarray_image_preview\" /><pre class=\"ndarray_raw_data\">array([[[255, 255, 255],\n",
              "        [255, 255, 255],\n",
              "        [255, 255, 255],\n",
              "        ...,\n",
              "        [255, 255, 255],\n",
              "        [255, 255, 255],\n",
              "        [255, 255, 255]],\n",
              "\n",
              "       [[255, 255, 255],\n",
              "        [255, 255, 255],\n",
              "        [255, 255, 255],\n",
              "        ...,\n",
              "        [255, 255, 255],\n",
              "        [255, 255, 255],\n",
              "        [255, 255, 255]],\n",
              "\n",
              "       [[255, 255, 255],\n",
              "        [255, 255, 255],\n",
              "        [255, 255, 255],\n",
              "        ...,\n",
              "        [255, 255, 255],\n",
              "        [255, 255, 255],\n",
              "        [255, 255, 255]],\n",
              "\n",
              "       ...,\n",
              "\n",
              "       [[253, 253, 253],\n",
              "        [253, 253, 253],\n",
              "        [252, 252, 252],\n",
              "        ...,\n",
              "        [255, 255, 255],\n",
              "        [255, 255, 255],\n",
              "        [255, 255, 255]],\n",
              "\n",
              "       [[253, 253, 253],\n",
              "        [253, 253, 253],\n",
              "        [252, 252, 252],\n",
              "        ...,\n",
              "        [255, 255, 255],\n",
              "        [255, 255, 255],\n",
              "        [255, 255, 255]],\n",
              "\n",
              "       [[254, 254, 254],\n",
              "        [254, 254, 254],\n",
              "        [253, 253, 253],\n",
              "        ...,\n",
              "        [255, 255, 255],\n",
              "        [255, 255, 255],\n",
              "        [255, 255, 255]]], dtype=uint8)</pre></div><script>\n",
              "      (() => {\n",
              "      const titles = ['show data', 'hide data'];\n",
              "      let index = 0\n",
              "      document.querySelector('#id-6f705a50-6668-4c14-854a-859d6d901f44 button').onclick = (e) => {\n",
              "        document.querySelector('#id-6f705a50-6668-4c14-854a-859d6d901f44').classList.toggle('show_array');\n",
              "        index = (++index) % 2;\n",
              "        document.querySelector('#id-6f705a50-6668-4c14-854a-859d6d901f44 button').textContent = titles[index];\n",
              "        e.preventDefault();\n",
              "        e.stopPropagation();\n",
              "      }\n",
              "      })();\n",
              "    </script>"
            ]
          },
          "metadata": {},
          "execution_count": 189
        }
      ]
    },
    {
      "cell_type": "code",
      "source": [
        "gold_fish = np.array(gold_fish) / 255.0\n",
        "gold_fish.shape"
      ],
      "metadata": {
        "colab": {
          "base_uri": "https://localhost:8080/"
        },
        "id": "NsRmsmrV9-96",
        "outputId": "f413ffd1-fd2d-42c2-ebe7-364b35563296"
      },
      "execution_count": 190,
      "outputs": [
        {
          "output_type": "execute_result",
          "data": {
            "text/plain": [
              "(128, 128, 3)"
            ]
          },
          "metadata": {},
          "execution_count": 190
        }
      ]
    },
    {
      "cell_type": "markdown",
      "source": [
        "here we will add another dimension (1) in order for for prediction"
      ],
      "metadata": {
        "id": "27ZobZZ4-zO5"
      }
    },
    {
      "cell_type": "code",
      "source": [
        "gold_fish[np.newaxis, ...].shape"
      ],
      "metadata": {
        "colab": {
          "base_uri": "https://localhost:8080/"
        },
        "id": "W0yFpisp-pQ2",
        "outputId": "b763b46c-73ac-4517-a68a-f2207d4d012f"
      },
      "execution_count": 191,
      "outputs": [
        {
          "output_type": "execute_result",
          "data": {
            "text/plain": [
              "(1, 128, 128, 3)"
            ]
          },
          "metadata": {},
          "execution_count": 191
        }
      ]
    },
    {
      "cell_type": "markdown",
      "source": [
        "now let's preict total classes"
      ],
      "metadata": {
        "id": "OZC5GXnQ_DPS"
      }
    },
    {
      "cell_type": "code",
      "source": [
        "result = model.predict(gold_fish[np.newaxis, ...])\n",
        "result.shape"
      ],
      "metadata": {
        "colab": {
          "base_uri": "https://localhost:8080/"
        },
        "id": "8M_IG8Ie-_dh",
        "outputId": "dab2374a-5b04-48fd-e93a-05d9d7a46fb0"
      },
      "execution_count": 192,
      "outputs": [
        {
          "output_type": "stream",
          "name": "stdout",
          "text": [
            "\u001b[1m1/1\u001b[0m \u001b[32m━━━━━━━━━━━━━━━━━━━━\u001b[0m\u001b[37m\u001b[0m \u001b[1m0s\u001b[0m 42ms/step\n"
          ]
        },
        {
          "output_type": "execute_result",
          "data": {
            "text/plain": [
              "(1, 1001)"
            ]
          },
          "metadata": {},
          "execution_count": 192
        }
      ]
    },
    {
      "cell_type": "code",
      "source": [
        "predic_class  = np.argmax(result)\n",
        "\n",
        "predic_class"
      ],
      "metadata": {
        "colab": {
          "base_uri": "https://localhost:8080/"
        },
        "id": "NmiStey1_LG2",
        "outputId": "f4f0edb7-fb91-4c9a-f896-aeb8a8ba3243"
      },
      "execution_count": 193,
      "outputs": [
        {
          "output_type": "execute_result",
          "data": {
            "text/plain": [
              "np.int64(880)"
            ]
          },
          "metadata": {},
          "execution_count": 193
        }
      ]
    },
    {
      "cell_type": "markdown",
      "source": [
        "np.int64(2) we have got class 2 in return lets match this with classes"
      ],
      "metadata": {
        "id": "KUzZuEZP_ahm"
      }
    },
    {
      "cell_type": "code",
      "source": [
        "with  open ('data-file.csv','r') as f:\n",
        "    image_labels  = f.read().splitlines()\n",
        "image_labels[:5]"
      ],
      "metadata": {
        "colab": {
          "base_uri": "https://localhost:8080/"
        },
        "id": "XLeFfbYm_Y7E",
        "outputId": "ee15a774-c7b1-4c8c-da6a-b78d0eba4c42"
      },
      "execution_count": 194,
      "outputs": [
        {
          "output_type": "execute_result",
          "data": {
            "text/plain": [
              "['background', 'tench', 'goldfish', 'great white shark', 'tiger shark']"
            ]
          },
          "metadata": {},
          "execution_count": 194
        }
      ]
    },
    {
      "cell_type": "code",
      "source": [
        "image_labels[predic_class]"
      ],
      "metadata": {
        "colab": {
          "base_uri": "https://localhost:8080/",
          "height": 35
        },
        "id": "3AitY6NF2d5o",
        "outputId": "736a8bca-9be2-4458-d8d6-07318e6bfd5a"
      },
      "execution_count": 195,
      "outputs": [
        {
          "output_type": "execute_result",
          "data": {
            "text/plain": [
              "'umbrella'"
            ],
            "application/vnd.google.colaboratory.intrinsic+json": {
              "type": "string"
            }
          },
          "metadata": {},
          "execution_count": 195
        }
      ]
    },
    {
      "cell_type": "code",
      "source": [],
      "metadata": {
        "id": "k3YKC7OUGdDX"
      },
      "execution_count": 179,
      "outputs": []
    }
  ]
}